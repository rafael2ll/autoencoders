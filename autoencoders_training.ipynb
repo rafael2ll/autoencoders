{
  "nbformat": 4,
  "nbformat_minor": 0,
  "metadata": {
    "colab": {
      "name": "autoencoders-training",
      "version": "0.3.2",
      "provenance": [],
      "collapsed_sections": [],
      "toc_visible": true,
      "include_colab_link": true
    },
    "kernelspec": {
      "name": "python3",
      "display_name": "Python 3"
    }
  },
  "cells": [
    {
      "cell_type": "markdown",
      "metadata": {
        "id": "view-in-github",
        "colab_type": "text"
      },
      "source": [
        "<a href=\"https://colab.research.google.com/github/rafael2ll/autoencoders/blob/master/autoencoders_training.ipynb\" target=\"_parent\"><img src=\"https://colab.research.google.com/assets/colab-badge.svg\" alt=\"Open In Colab\"/></a>"
      ]
    },
    {
      "metadata": {
        "id": "uU5c-D7Y9z9l",
        "colab_type": "code",
        "colab": {}
      },
      "cell_type": "code",
      "source": [
        "from numpy import array\n",
        "from tensorflow.keras.models import Sequential\n",
        "from tensorflow.keras.layers import LSTM\n",
        "from tensorflow.keras.layers import Dense\n",
        "from tensorflow.keras.layers import RepeatVector\n",
        "from tensorflow.keras.layers import TimeDistributed\n",
        "from tensorflow.keras.utils import plot_model\n",
        "from matplotlib import pyplot\n",
        "# define input sequence\n",
        "sequence = array([x/10 for x in range(10000)])\n",
        "sequence2 = array([x*10 for x in range(10000)])\n",
        "sequence3 = array([-x for x in range(10000)])\n",
        "sequence_X = array([[x,y,z] for (x,y,z) in zip(sequence,sequence2, sequence3)])"
      ],
      "execution_count": 0,
      "outputs": []
    },
    {
      "metadata": {
        "id": "up3sFJ6j-lu6",
        "colab_type": "code",
        "colab": {}
      },
      "cell_type": "code",
      "source": [
        "sequence_X = sequence_X.reshape(sequence_X.shape[0],sequence_X.shape[1], 1)\n",
        "print(sequence_X[:5])\n",
        "sequence_X.shape"
      ],
      "execution_count": 0,
      "outputs": []
    },
    {
      "metadata": {
        "id": "SJ_UkgYq-bMH",
        "colab_type": "code",
        "colab": {}
      },
      "cell_type": "code",
      "source": [
        "\n",
        "# reshape input into [samples, timesteps, features]\n",
        "n_in = len(sequence_X[0])\n",
        "# define model\n",
        "model = Sequential()\n",
        "model.add(LSTM(50, activation='relu', input_shape=(sequence_X.shape[1], sequence_X.shape[2])))\n",
        "model.add(Dense(1))\n",
        "model.compile(optimizer='adam', loss='mse')\n",
        "# fit model\n",
        "history = model.fit(sequence_X, epochs=300, verbose=0,shuffle=False)\n",
        "plot_model(model, show_shapes=True, to_file='reconstruct_lstm_autoencoder.png')\n",
        "# demonstrate recreation\n",
        "yhat = model.predict(sequence_X, verbose=0)\n"
      ],
      "execution_count": 0,
      "outputs": []
    },
    {
      "metadata": {
        "id": "bbk6fCCRF9nS",
        "colab_type": "code",
        "colab": {
          "base_uri": "https://localhost:8080/",
          "height": 347
        },
        "outputId": "e7bbbf9e-1a52-4616-fdf6-0d960e697ce7"
      },
      "cell_type": "code",
      "source": [
        "pyplot.plot(history.history['loss'], label='train')\n",
        "pyplot.legend()\n",
        "pyplot.show()"
      ],
      "execution_count": 115,
      "outputs": [
        {
          "output_type": "display_data",
          "data": {
            "image/png": "[encoded data removed]",
            "text/plain": [
              "<Figure size 576x396 with 1 Axes>"
            ]
          },
          "metadata": {
            "tags": []
          }
        }
      ]
    },
    {
      "metadata": {
        "id": "IlgFXrhoBvq0",
        "colab_type": "code",
        "colab": {
          "base_uri": "https://localhost:8080/",
          "height": 127
        },
        "outputId": "20c030fb-7b43-469d-d1f5-ba2b548e8308"
      },
      "cell_type": "code",
      "source": [
        "predictions = model.predict(sequence_X.reshape(10000,3,1))\n",
        "print(predictions.std())\n",
        "print(predictions[:5])\n"
      ],
      "execution_count": 117,
      "outputs": [
        {
          "output_type": "stream",
          "text": [
            "0.00058656157\n",
            "[[0.98353106]\n",
            " [0.9879147 ]\n",
            " [0.9895491 ]\n",
            " [0.9893287 ]\n",
            " [0.9893563 ]]\n"
          ],
          "name": "stdout"
        }
      ]
    },
    {
      "metadata": {
        "id": "oPZxowesFCHC",
        "colab_type": "code",
        "colab": {
          "base_uri": "https://localhost:8080/",
          "height": 35
        },
        "outputId": "8cb18c55-05ef-4d98-9c72-fb7ab044c227"
      },
      "cell_type": "code",
      "source": [
        "model.predict(array([[100, 100, 100]]).reshape(1, 3, 1))"
      ],
      "execution_count": 142,
      "outputs": [
        {
          "output_type": "execute_result",
          "data": {
            "text/plain": [
              "array([[-3.5380135]], dtype=float32)"
            ]
          },
          "metadata": {
            "tags": []
          },
          "execution_count": 142
        }
      ]
    },
    {
      "metadata": {
        "id": "psLk1q4vDMij",
        "colab_type": "text"
      },
      "cell_type": "markdown",
      "source": [
        "## Conclusão:\n",
        "Com a validação do modelo, podemos perceber que indices correlacionados da sequencia se mantem com correlação em torno de 1.<br>\n",
        "Valores maiores que 1 indicam relação de superioridade do componente 2 em relação ao componente 1. <br>\n",
        "Valores menores que 1 indicam disparidade do componente 1 maior do que a do componente 2."
      ]
    }
  ]
}